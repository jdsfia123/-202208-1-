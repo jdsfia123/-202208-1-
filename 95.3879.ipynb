{
 "cells": [
  {
   "cell_type": "markdown",
   "metadata": {
    "collapsed": false
   },
   "source": [
    "## 1 赛题介绍\n",
    "\n",
    "\n",
    "\n",
    "《绝地求生》(PUBG) 是一款战术竞技型射击类沙盒游戏。在该游戏中，玩家需要在游戏地图上收集各种资源，并在不断缩小的安全区域内对抗其他玩家，让自己生存到最后。当选手在本局游戏中取得第一名后，会有一段台词出现：“大吉大利，晚上吃鸡!”。\n",
    "\n",
    "在本次赛题中，我们收集了PUBG比赛数据中玩家的行为数据，希望选手能够构建模型对玩家每局最终的排名进行预测。\n",
    "\n",
    "![](https://ai-studio-static-online.cdn.bcebos.com/1b5af0d745464bb58e12c21f581b58374d296539da9d4538814351e2a569fca9)\n",
    "\n",
    "\n",
    "## 2 赛事任务\n",
    "构建吃鸡排名预测模型，输入每位玩家的统计信息、队友统计信息、本局其他玩家的统计信息，预测最终的游戏排名。这里的排名是按照队伍排名，若多位玩家在PUBG一局游戏中组队，则最终排名相同。\n",
    "\n",
    "赛题训练集案例如下：\n",
    "训练集5万局数据，共150w行\n",
    "测试集共5000局条数据，共50w行\n",
    "\n",
    "赛题数据文件总大小150MB，数据均为csv格式，列使用逗号分割。若使用Pandas读取数据，可参考如下代码：\n",
    "\n",
    "```\n",
    "import pandas as pd\n",
    "import numpy as np\n",
    "\n",
    "pubg_train = pd.read_csv('pubg_train.csv.zip')\n",
    "```\n",
    "\n",
    "测试集中label字段team_placement为空，需要选手预测。完整的数据字段含义如下：\n",
    "- `match_id`：本局游戏的id\n",
    "- `team_id`：本局游戏中队伍id，表示在每局游戏中队伍信息\n",
    "- `game_size`：本局队伍数量\n",
    "- `party_size`：本局游戏中队伍人数\n",
    "- `player_assists`：玩家助攻数\n",
    "- `player_dbno`：玩家击倒数\n",
    "- `player_dist_ride`：玩家车辆行驶距离\n",
    "- `player_dist_walk`：玩家不幸距离\n",
    "- `player_dmg`：输出伤害值\n",
    "- `player_kills`：玩家击杀数\n",
    "- `player_name`：玩家名称，在训练集和测试集中全局唯一\n",
    "- `kill_distance_x_min`：击杀另一位选手时最小的x坐标间隔\n",
    "- `kill_distance_x_max`：击杀另一位选手时最大的x坐标间隔\n",
    "- `kill_distance_y_min`：击杀另一位选手时最小的y坐标间隔\n",
    "- `kill_distance_y_max`：击杀另一位选手时最大的x坐标间隔\n",
    "- `team_placement`：队伍排名\n",
    "\n",
    "选手需要提交测试集队伍排名预测，具体的提交格式如下：\n",
    "```\n",
    "team_placement\n",
    "19\n",
    "19\n",
    "37\n",
    "37\n",
    "49\n",
    "49\n",
    "13\n",
    "13\n",
    "```\n",
    "\n",
    "## 3 评估指标\n",
    "\n",
    "本次竞赛的使用绝对回归误差MAE进行评分，数值越低精度越高，评估代码参考：\n",
    "```\n",
    "from sklearn.metrics import mean_absolute_error\n",
    "y_pred = [0, 2, 1, 3]\n",
    "y_true = [0, 1, 2, 3]\n",
    "100 - mean_absolute_error(y_true, y_pred)\n",
    "```"
   ]
  },
  {
   "cell_type": "markdown",
   "metadata": {
    "collapsed": false
   },
   "source": [
    "## 4 数据分析\n",
    "\n",
    "结合已有的赛题信息，接下来我们将深入分析数据内部的规律，找出**什么类型的队伍会取得更好的排名？**\n",
    "- 赛题字段分析\n",
    "- 赛题标签分析\n",
    "- 字段相关性分析\n"
   ]
  },
  {
   "cell_type": "markdown",
   "metadata": {
    "collapsed": false
   },
   "source": [
    "## Baseline使用指导\n",
    "1、点击‘fork按钮’，出现‘fork项目’弹窗         \n",
    "2、点击‘创建按钮’ ，出现‘运行项目’弹窗    \n",
    "3、点击‘运行项目’，自动跳转至新页面      \n",
    "4、点击‘启动环境’ ，出现‘选择运行环境’弹窗     \n",
    "5、选择运行环境（启动项目需要时间，请耐心等待），出现‘环境启动成功’弹窗，点击确定        \n",
    "6、点击进入环境，即可进入notebook环境      \n",
    "7、鼠标移至下方每个代码块内（代码块左侧边框会变成浅蓝色），再依次点击每个代码块左上角的‘三角形运行按钮’，待一个模块运行完以后再运行下一个模块，直至全部运行完成   \n",
    "![](https://ai-studio-static-online.cdn.bcebos.com/226c72f88f5b4e9d8a55e59129e4c79770aa200f10ef413ca1420ae7d273bc88)  \n",
    "![](https://ai-studio-static-online.cdn.bcebos.com/866a22a341d64166aaf9a8a3abee09b5a6e2d0cba1c649bb8bdef6b2ad7955f1)  \n",
    "8、下载页面左侧submission.zip压缩包  \n",
    "![](https://ai-studio-static-online.cdn.bcebos.com/b7f3076301e34462abaf2013dcdbf10a5dcbfe287d5845f1869493e578391f7a)  \n",
    "9、在比赛页提交submission.zip压缩包，等待系统评测结束后，即可登榜！    \n",
    "![](https://ai-studio-static-online.cdn.bcebos.com/95a9fc4140144a2d8a76258f7a536751c5c6969994154d3da71c80e23757c6c8)  \n",
    "10、点击页面左侧‘版本-生成新版本’  \n",
    "![](https://ai-studio-static-online.cdn.bcebos.com/e62d0f5ca1454f7485c3eb1351823315480356cafad143c2ab2ff065f95104fe)  \n",
    "11、填写‘版本名称’，点击‘生成版本按钮’，即可在个人主页查看到该项目（可选择公开此项目哦）  "
   ]
  },
  {
   "cell_type": "code",
   "execution_count": 38,
   "metadata": {
    "collapsed": false
   },
   "outputs": [
    {
     "name": "stdout",
     "output_type": "stream",
     "text": [
      "Populating the interactive namespace from numpy and matplotlib\n"
     ]
    }
   ],
   "source": [
    "import pandas as pd\n",
    "import paddle\n",
    "import numpy as np\n",
    "\n",
    "%pylab inline\n",
    "import seaborn as sns\n",
    "\n",
    "train_df = pd.read_csv('data/data137263/pubg_train.csv.zip')\n",
    "test_df = pd.read_csv('data/data137263/pubg_test.csv.zip')"
   ]
  },
  {
   "cell_type": "code",
   "execution_count": 39,
   "metadata": {
    "collapsed": false
   },
   "outputs": [
    {
     "data": {
      "text/plain": [
       "((1500000, 16), (500000, 15))"
      ]
     },
     "execution_count": 39,
     "metadata": {},
     "output_type": "execute_result"
    }
   ],
   "source": [
    "train_df.shape, test_df.shape"
   ]
  },
  {
   "cell_type": "code",
   "execution_count": 40,
   "metadata": {
    "collapsed": false
   },
   "outputs": [
    {
     "data": {
      "text/plain": [
       "0     5\n",
       "1     5\n",
       "2    49\n",
       "3    49\n",
       "4    34\n",
       "Name: team_placement, dtype: int64"
      ]
     },
     "execution_count": 40,
     "metadata": {},
     "output_type": "execute_result"
    }
   ],
   "source": [
    "train_df[\"team_placement\"].head()"
   ]
  },
  {
   "cell_type": "code",
   "execution_count": null,
   "metadata": {
    "collapsed": false
   },
   "outputs": [],
   "source": [
    "sns.heatmap(train_df.corr())"
   ]
  },
  {
   "cell_type": "markdown",
   "metadata": {
    "collapsed": false
   },
   "source": [
    "## 5 模型训练与验证"
   ]
  },
  {
   "cell_type": "markdown",
   "metadata": {
    "collapsed": false
   },
   "source": [
    "### 数据处理"
   ]
  },
  {
   "cell_type": "code",
   "execution_count": 41,
   "metadata": {
    "collapsed": false
   },
   "outputs": [],
   "source": [
    "train_df = train_df.drop(['match_id', 'team_id'], axis=1)\n",
    "test_df = test_df.drop(['match_id', 'team_id'], axis=1)\n",
    "\n",
    "train_df = train_df.fillna(0)\n",
    "test_df = test_df.fillna(0)"
   ]
  },
  {
   "cell_type": "code",
   "execution_count": 42,
   "metadata": {
    "collapsed": false
   },
   "outputs": [],
   "source": [
    "train_df[\"kill_distance_min\"] = sqrt(train_df[\"kill_distance_x_min\"]**2 + train_df[\"kill_distance_y_min\"]**2)\r\n",
    "train_df[\"kill_distance_max\"] = sqrt(train_df[\"kill_distance_x_max\"]**2 + train_df[\"kill_distance_y_max\"]**2)\r\n",
    "train_df[\"kill_distance_minmax\"] = train_df[\"kill_distance_max\"] - train_df[\"kill_distance_min\"]\r\n",
    "train_df[\"player_dist_all\"] = train_df[\"player_dist_ride\"] + train_df[\"player_dist_walk\"]\r\n",
    "\r\n",
    "train_df = train_df.reindex(columns=[\"game_size\", \"party_size\", \"player_assists\", \"player_dbno\", \"player_dist_ride\", \"player_dist_walk\", \"player_dmg\", \"player_kills\", \"player_name\", \\\r\n",
    "    \"kill_distance_min\", \"kill_distance_max\", \"kill_distance_minmax\", \"player_dist_all\", \"team_placement\"])\r\n",
    "\r\n",
    "test_df[\"kill_distance_min\"] = sqrt(test_df[\"kill_distance_x_min\"]**2 + test_df[\"kill_distance_y_min\"]**2)\r\n",
    "test_df[\"kill_distance_max\"] = sqrt(test_df[\"kill_distance_x_max\"]**2 + test_df[\"kill_distance_y_max\"]**2)\r\n",
    "test_df[\"kill_distance_minmax\"] = test_df[\"kill_distance_max\"] - test_df[\"kill_distance_min\"]\r\n",
    "test_df[\"player_dist_all\"] = test_df[\"player_dist_ride\"] + test_df[\"player_dist_walk\"]\r\n",
    "\r\n",
    "test_df = test_df.reindex(columns=[\"game_size\", \"party_size\", \"player_assists\", \"player_dbno\", \"player_dist_ride\", \"player_dist_walk\", \"player_dmg\", \"player_kills\", \"player_name\", \\\r\n",
    "    \"kill_distance_min\", \"kill_distance_max\", \"kill_distance_minmax\", \"player_dist_all\"])\r\n",
    "\r\n",
    "# test_df = test_df[]"
   ]
  },
  {
   "cell_type": "code",
   "execution_count": 31,
   "metadata": {
    "collapsed": false
   },
   "outputs": [
    {
     "name": "stderr",
     "output_type": "stream",
     "text": [
      "/opt/conda/envs/python35-paddle120-env/lib/python3.7/site-packages/numpy/lib/type_check.py:546: DeprecationWarning: np.asscalar(a) is deprecated since NumPy v1.16, use a.item() instead\n",
      "  'a.item() instead', DeprecationWarning, stacklevel=1)\n"
     ]
    },
    {
     "data": {
      "text/plain": [
       "<matplotlib.axes._subplots.AxesSubplot at 0x7f2d3b9be410>"
      ]
     },
     "execution_count": 31,
     "metadata": {},
     "output_type": "execute_result"
    },
    {
     "data": {
      "image/png": "[encoded data removed]",
      "text/plain": [
       "<Figure size 432x288 with 2 Axes>"
      ]
     },
     "metadata": {},
     "output_type": "display_data"
    }
   ],
   "source": [
    "sns.heatmap(train_df.corr())"
   ]
  },
  {
   "cell_type": "code",
   "execution_count": 43,
   "metadata": {
    "collapsed": false
   },
   "outputs": [],
   "source": [
    "# 标签归一化，按照本场比赛的队伍数量进行处理\n",
    "train_df['team_placement'] /= train_df['game_size'] \n",
    "\n",
    "# 数值归一化\n",
    "for col in train_df.columns[:-1]:\n",
    "    train_df[col] /= train_df[col].max()\n",
    "    test_df[col] /= test_df[col].max()"
   ]
  },
  {
   "cell_type": "code",
   "execution_count": 44,
   "metadata": {
    "collapsed": false
   },
   "outputs": [
    {
     "data": {
      "text/plain": [
       "((1500000, 14), (500000, 13))"
      ]
     },
     "execution_count": 44,
     "metadata": {},
     "output_type": "execute_result"
    }
   ],
   "source": [
    "train_df.shape, test_df.shape"
   ]
  },
  {
   "cell_type": "markdown",
   "metadata": {
    "collapsed": false
   },
   "source": [
    "### 模型搭建"
   ]
  },
  {
   "cell_type": "code",
   "execution_count": null,
   "metadata": {
    "collapsed": false
   },
   "outputs": [],
   "source": [
    "class Regressor(paddle.nn.Layer):\n",
    "    # self代表类的实例自身\n",
    "    def __init__(self):\n",
    "        # 初始化父类中的一些参数\n",
    "        super(Regressor, self).__init__()\n",
    "        \n",
    "        net_num = 100\n",
    "\n",
    "        self.fc1 = paddle.nn.Linear(in_features=13, out_features=net_num)\n",
    "        self.fc2 = paddle.nn.Linear(in_features=net_num, out_features=net_num)\n",
    "        self.fc3 = paddle.nn.Linear(in_features=net_num, out_features=net_num)\n",
    "        self.fc4 = paddle.nn.Linear(in_features=net_num, out_features=net_num)\n",
    "        self.fc5 = paddle.nn.Linear(in_features=net_num, out_features=net_num)\n",
    "        self.fc6 = paddle.nn.Linear(in_features=net_num, out_features=net_num)\n",
    "        self.fc7 = paddle.nn.Linear(in_features=net_num, out_features=net_num)\n",
    "        self.fc8 = paddle.nn.Linear(in_features=net_num, out_features=20)\n",
    "        self.fc9 = paddle.nn.Linear(in_features=20, out_features=1)\n",
    "\n",
    "        self.relu = paddle.nn.ReLU()\n",
    "    \n",
    "    # 网络的前向计算\n",
    "    def forward(self, inputs):\n",
    "        x = self.fc1(inputs)\n",
    "        x = self.relu(x)\n",
    "        x = self.fc2(x)\n",
    "        x = self.relu(x)\n",
    "        x = self.fc3(x)\n",
    "        x = self.relu(x)\n",
    "        x = self.fc4(x)\n",
    "        x = self.relu(x)\n",
    "        x = self.fc5(x)\n",
    "        x = self.relu(x)\n",
    "        x = self.fc6(x)\n",
    "        x = self.relu(x)\n",
    "        x = self.fc7(x)\n",
    "        x = self.relu(x)\n",
    "        x = self.fc8(x)\n",
    "        x = self.relu(x)\n",
    "        x = self.fc9(x)\n",
    "        x = self.relu(x)\n",
    "        return x"
   ]
  },
  {
   "cell_type": "code",
   "execution_count": null,
   "metadata": {
    "collapsed": false
   },
   "outputs": [],
   "source": [
    "# 声明定义好的线性回归模型\n",
    "model = Regressor()\n",
    "\n",
    "# 开启模型训练模式\n",
    "model.train()\n",
    "\n",
    "# 定义优化算法，使用随机梯度下降SGD\n",
    "opt = paddle.optimizer.SGD(learning_rate=0.01, parameters=model.parameters())"
   ]
  },
  {
   "cell_type": "markdown",
   "metadata": {
    "collapsed": false
   },
   "source": []
  },
  {
   "cell_type": "code",
   "execution_count": null,
   "metadata": {
    "collapsed": false
   },
   "outputs": [],
   "source": [
    "opt = paddle.optimizer.SGD(learning_rate=0.0000001, parameters=model.parameters())"
   ]
  },
  {
   "cell_type": "code",
   "execution_count": null,
   "metadata": {
    "collapsed": false
   },
   "outputs": [],
   "source": [
    "# 加载模型参数\r\n",
    "params_file_path=\"work/model/100net.pdparams\"\r\n",
    "model_state_dict = paddle.load(params_file_path)\r\n",
    "model.load_dict(model_state_dict)"
   ]
  },
  {
   "cell_type": "markdown",
   "metadata": {
    "collapsed": false
   },
   "source": [
    "### 模型训练"
   ]
  },
  {
   "cell_type": "code",
   "execution_count": 24,
   "metadata": {
    "collapsed": false
   },
   "outputs": [
    {
     "name": "stdout",
     "output_type": "stream",
     "text": [
      "Epoch 0, train MAE 0.10623102635145187, val MAE 0.10608848184347153\n",
      "Epoch 1, train MAE 0.10623100399971008, val MAE 0.10608824342489243\n",
      "Epoch 2, train MAE 0.10623099654912949, val MAE 0.1060880795121193\n",
      "Epoch 3, train MAE 0.10623099654912949, val MAE 0.10608796030282974\n",
      "Epoch 4, train MAE 0.10623099654912949, val MAE 0.106087826192379\n",
      "Epoch 5, train MAE 0.10623098164796829, val MAE 0.10608772933483124\n",
      "Epoch 6, train MAE 0.10623098164796829, val MAE 0.10608766227960587\n",
      "Epoch 7, train MAE 0.10623098164796829, val MAE 0.1060875877737999\n",
      "Epoch 8, train MAE 0.1062309741973877, val MAE 0.1060875654220581\n",
      "Epoch 9, train MAE 0.1062309741973877, val MAE 0.10608754307031631\n",
      "Epoch 10, train MAE 0.1062309741973877, val MAE 0.10608754307031631\n",
      "Epoch 11, train MAE 0.1062309741973877, val MAE 0.10608754307031631\n",
      "Epoch 12, train MAE 0.1062309741973877, val MAE 0.10608750581741333\n",
      "Epoch 13, train MAE 0.1062309741973877, val MAE 0.10608752071857452\n",
      "Epoch 14, train MAE 0.1062309741973877, val MAE 0.10608748346567154\n",
      "Epoch 15, train MAE 0.1062309741973877, val MAE 0.10608746111392975\n",
      "Epoch 16, train MAE 0.1062309741973877, val MAE 0.10608749091625214\n",
      "Epoch 17, train MAE 0.10623098164796829, val MAE 0.10608746111392975\n",
      "Epoch 18, train MAE 0.1062309741973877, val MAE 0.10608744621276855\n",
      "Epoch 19, train MAE 0.1062309741973877, val MAE 0.10608744621276855\n",
      "Epoch 20, train MAE 0.1062309741973877, val MAE 0.10608746111392975\n"
     ]
    },
    {
     "ename": "KeyboardInterrupt",
     "evalue": "",
     "output_type": "error",
     "traceback": [
      "\u001b[0;31m---------------------------------------------------------------------------\u001b[0m",
      "\u001b[0;31mKeyboardInterrupt\u001b[0m                         Traceback (most recent call last)",
      "\u001b[0;32m/tmp/ipykernel_93/370463367.py\u001b[0m in \u001b[0;36m<module>\u001b[0;34m\u001b[0m\n\u001b[1;32m     26\u001b[0m \u001b[0;34m\u001b[0m\u001b[0m\n\u001b[1;32m     27\u001b[0m         \u001b[0;31m# 前向计算\u001b[0m\u001b[0;34m\u001b[0m\u001b[0;34m\u001b[0m\u001b[0;34m\u001b[0m\u001b[0m\n\u001b[0;32m---> 28\u001b[0;31m         \u001b[0mpredicts\u001b[0m \u001b[0;34m=\u001b[0m \u001b[0mmodel\u001b[0m\u001b[0;34m(\u001b[0m\u001b[0mfeatures\u001b[0m\u001b[0;34m)\u001b[0m\u001b[0;34m\u001b[0m\u001b[0;34m\u001b[0m\u001b[0m\n\u001b[0m\u001b[1;32m     29\u001b[0m \u001b[0;34m\u001b[0m\u001b[0m\n\u001b[1;32m     30\u001b[0m         \u001b[0;31m# 计算损失\u001b[0m\u001b[0;34m\u001b[0m\u001b[0;34m\u001b[0m\u001b[0;34m\u001b[0m\u001b[0m\n",
      "\u001b[0;32m/opt/conda/envs/python35-paddle120-env/lib/python3.7/site-packages/paddle/fluid/dygraph/layers.py\u001b[0m in \u001b[0;36m__call__\u001b[0;34m(self, *inputs, **kwargs)\u001b[0m\n\u001b[1;32m    915\u001b[0m \u001b[0;34m\u001b[0m\u001b[0m\n\u001b[1;32m    916\u001b[0m     \u001b[0;32mdef\u001b[0m \u001b[0m__call__\u001b[0m\u001b[0;34m(\u001b[0m\u001b[0mself\u001b[0m\u001b[0;34m,\u001b[0m \u001b[0;34m*\u001b[0m\u001b[0minputs\u001b[0m\u001b[0;34m,\u001b[0m \u001b[0;34m**\u001b[0m\u001b[0mkwargs\u001b[0m\u001b[0;34m)\u001b[0m\u001b[0;34m:\u001b[0m\u001b[0;34m\u001b[0m\u001b[0;34m\u001b[0m\u001b[0m\n\u001b[0;32m--> 917\u001b[0;31m         \u001b[0;32mreturn\u001b[0m \u001b[0mself\u001b[0m\u001b[0;34m.\u001b[0m\u001b[0m_dygraph_call_func\u001b[0m\u001b[0;34m(\u001b[0m\u001b[0;34m*\u001b[0m\u001b[0minputs\u001b[0m\u001b[0;34m,\u001b[0m \u001b[0;34m**\u001b[0m\u001b[0mkwargs\u001b[0m\u001b[0;34m)\u001b[0m\u001b[0;34m\u001b[0m\u001b[0;34m\u001b[0m\u001b[0m\n\u001b[0m\u001b[1;32m    918\u001b[0m \u001b[0;34m\u001b[0m\u001b[0m\n\u001b[1;32m    919\u001b[0m     \u001b[0;32mdef\u001b[0m \u001b[0mforward\u001b[0m\u001b[0;34m(\u001b[0m\u001b[0mself\u001b[0m\u001b[0;34m,\u001b[0m \u001b[0;34m*\u001b[0m\u001b[0minputs\u001b[0m\u001b[0;34m,\u001b[0m \u001b[0;34m**\u001b[0m\u001b[0mkwargs\u001b[0m\u001b[0;34m)\u001b[0m\u001b[0;34m:\u001b[0m\u001b[0;34m\u001b[0m\u001b[0;34m\u001b[0m\u001b[0m\n",
      "\u001b[0;32m/opt/conda/envs/python35-paddle120-env/lib/python3.7/site-packages/paddle/fluid/dygraph/layers.py\u001b[0m in \u001b[0;36m_dygraph_call_func\u001b[0;34m(self, *inputs, **kwargs)\u001b[0m\n\u001b[1;32m    905\u001b[0m             \u001b[0mself\u001b[0m\u001b[0;34m.\u001b[0m\u001b[0m_built\u001b[0m \u001b[0;34m=\u001b[0m \u001b[0;32mTrue\u001b[0m\u001b[0;34m\u001b[0m\u001b[0;34m\u001b[0m\u001b[0m\n\u001b[1;32m    906\u001b[0m \u001b[0;34m\u001b[0m\u001b[0m\n\u001b[0;32m--> 907\u001b[0;31m         \u001b[0moutputs\u001b[0m \u001b[0;34m=\u001b[0m \u001b[0mself\u001b[0m\u001b[0;34m.\u001b[0m\u001b[0mforward\u001b[0m\u001b[0;34m(\u001b[0m\u001b[0;34m*\u001b[0m\u001b[0minputs\u001b[0m\u001b[0;34m,\u001b[0m \u001b[0;34m**\u001b[0m\u001b[0mkwargs\u001b[0m\u001b[0;34m)\u001b[0m\u001b[0;34m\u001b[0m\u001b[0;34m\u001b[0m\u001b[0m\n\u001b[0m\u001b[1;32m    908\u001b[0m \u001b[0;34m\u001b[0m\u001b[0m\n\u001b[1;32m    909\u001b[0m         \u001b[0;32mfor\u001b[0m \u001b[0mforward_post_hook\u001b[0m \u001b[0;32min\u001b[0m \u001b[0mself\u001b[0m\u001b[0;34m.\u001b[0m\u001b[0m_forward_post_hooks\u001b[0m\u001b[0;34m.\u001b[0m\u001b[0mvalues\u001b[0m\u001b[0;34m(\u001b[0m\u001b[0;34m)\u001b[0m\u001b[0;34m:\u001b[0m\u001b[0;34m\u001b[0m\u001b[0;34m\u001b[0m\u001b[0m\n",
      "\u001b[0;32m/tmp/ipykernel_93/2131965783.py\u001b[0m in \u001b[0;36mforward\u001b[0;34m(self, inputs)\u001b[0m\n\u001b[1;32m     27\u001b[0m         \u001b[0mx\u001b[0m \u001b[0;34m=\u001b[0m \u001b[0mself\u001b[0m\u001b[0;34m.\u001b[0m\u001b[0mfc3\u001b[0m\u001b[0;34m(\u001b[0m\u001b[0mx\u001b[0m\u001b[0;34m)\u001b[0m\u001b[0;34m\u001b[0m\u001b[0;34m\u001b[0m\u001b[0m\n\u001b[1;32m     28\u001b[0m         \u001b[0mx\u001b[0m \u001b[0;34m=\u001b[0m \u001b[0mself\u001b[0m\u001b[0;34m.\u001b[0m\u001b[0mrelu\u001b[0m\u001b[0;34m(\u001b[0m\u001b[0mx\u001b[0m\u001b[0;34m)\u001b[0m\u001b[0;34m\u001b[0m\u001b[0;34m\u001b[0m\u001b[0m\n\u001b[0;32m---> 29\u001b[0;31m         \u001b[0mx\u001b[0m \u001b[0;34m=\u001b[0m \u001b[0mself\u001b[0m\u001b[0;34m.\u001b[0m\u001b[0mfc4\u001b[0m\u001b[0;34m(\u001b[0m\u001b[0mx\u001b[0m\u001b[0;34m)\u001b[0m\u001b[0;34m\u001b[0m\u001b[0;34m\u001b[0m\u001b[0m\n\u001b[0m\u001b[1;32m     30\u001b[0m         \u001b[0mx\u001b[0m \u001b[0;34m=\u001b[0m \u001b[0mself\u001b[0m\u001b[0;34m.\u001b[0m\u001b[0mrelu\u001b[0m\u001b[0;34m(\u001b[0m\u001b[0mx\u001b[0m\u001b[0;34m)\u001b[0m\u001b[0;34m\u001b[0m\u001b[0;34m\u001b[0m\u001b[0m\n\u001b[1;32m     31\u001b[0m         \u001b[0mx\u001b[0m \u001b[0;34m=\u001b[0m \u001b[0mself\u001b[0m\u001b[0;34m.\u001b[0m\u001b[0mfc5\u001b[0m\u001b[0;34m(\u001b[0m\u001b[0mx\u001b[0m\u001b[0;34m)\u001b[0m\u001b[0;34m\u001b[0m\u001b[0;34m\u001b[0m\u001b[0m\n",
      "\u001b[0;32m/opt/conda/envs/python35-paddle120-env/lib/python3.7/site-packages/paddle/fluid/dygraph/layers.py\u001b[0m in \u001b[0;36m__call__\u001b[0;34m(self, *inputs, **kwargs)\u001b[0m\n\u001b[1;32m    915\u001b[0m \u001b[0;34m\u001b[0m\u001b[0m\n\u001b[1;32m    916\u001b[0m     \u001b[0;32mdef\u001b[0m \u001b[0m__call__\u001b[0m\u001b[0;34m(\u001b[0m\u001b[0mself\u001b[0m\u001b[0;34m,\u001b[0m \u001b[0;34m*\u001b[0m\u001b[0minputs\u001b[0m\u001b[0;34m,\u001b[0m \u001b[0;34m**\u001b[0m\u001b[0mkwargs\u001b[0m\u001b[0;34m)\u001b[0m\u001b[0;34m:\u001b[0m\u001b[0;34m\u001b[0m\u001b[0;34m\u001b[0m\u001b[0m\n\u001b[0;32m--> 917\u001b[0;31m         \u001b[0;32mreturn\u001b[0m \u001b[0mself\u001b[0m\u001b[0;34m.\u001b[0m\u001b[0m_dygraph_call_func\u001b[0m\u001b[0;34m(\u001b[0m\u001b[0;34m*\u001b[0m\u001b[0minputs\u001b[0m\u001b[0;34m,\u001b[0m \u001b[0;34m**\u001b[0m\u001b[0mkwargs\u001b[0m\u001b[0;34m)\u001b[0m\u001b[0;34m\u001b[0m\u001b[0;34m\u001b[0m\u001b[0m\n\u001b[0m\u001b[1;32m    918\u001b[0m \u001b[0;34m\u001b[0m\u001b[0m\n\u001b[1;32m    919\u001b[0m     \u001b[0;32mdef\u001b[0m \u001b[0mforward\u001b[0m\u001b[0;34m(\u001b[0m\u001b[0mself\u001b[0m\u001b[0;34m,\u001b[0m \u001b[0;34m*\u001b[0m\u001b[0minputs\u001b[0m\u001b[0;34m,\u001b[0m \u001b[0;34m**\u001b[0m\u001b[0mkwargs\u001b[0m\u001b[0;34m)\u001b[0m\u001b[0;34m:\u001b[0m\u001b[0;34m\u001b[0m\u001b[0;34m\u001b[0m\u001b[0m\n",
      "\u001b[0;32m/opt/conda/envs/python35-paddle120-env/lib/python3.7/site-packages/paddle/fluid/dygraph/layers.py\u001b[0m in \u001b[0;36m_dygraph_call_func\u001b[0;34m(self, *inputs, **kwargs)\u001b[0m\n\u001b[1;32m    905\u001b[0m             \u001b[0mself\u001b[0m\u001b[0;34m.\u001b[0m\u001b[0m_built\u001b[0m \u001b[0;34m=\u001b[0m \u001b[0;32mTrue\u001b[0m\u001b[0;34m\u001b[0m\u001b[0;34m\u001b[0m\u001b[0m\n\u001b[1;32m    906\u001b[0m \u001b[0;34m\u001b[0m\u001b[0m\n\u001b[0;32m--> 907\u001b[0;31m         \u001b[0moutputs\u001b[0m \u001b[0;34m=\u001b[0m \u001b[0mself\u001b[0m\u001b[0;34m.\u001b[0m\u001b[0mforward\u001b[0m\u001b[0;34m(\u001b[0m\u001b[0;34m*\u001b[0m\u001b[0minputs\u001b[0m\u001b[0;34m,\u001b[0m \u001b[0;34m**\u001b[0m\u001b[0mkwargs\u001b[0m\u001b[0;34m)\u001b[0m\u001b[0;34m\u001b[0m\u001b[0;34m\u001b[0m\u001b[0m\n\u001b[0m\u001b[1;32m    908\u001b[0m \u001b[0;34m\u001b[0m\u001b[0m\n\u001b[1;32m    909\u001b[0m         \u001b[0;32mfor\u001b[0m \u001b[0mforward_post_hook\u001b[0m \u001b[0;32min\u001b[0m \u001b[0mself\u001b[0m\u001b[0;34m.\u001b[0m\u001b[0m_forward_post_hooks\u001b[0m\u001b[0;34m.\u001b[0m\u001b[0mvalues\u001b[0m\u001b[0;34m(\u001b[0m\u001b[0;34m)\u001b[0m\u001b[0;34m:\u001b[0m\u001b[0;34m\u001b[0m\u001b[0;34m\u001b[0m\u001b[0m\n",
      "\u001b[0;32m/opt/conda/envs/python35-paddle120-env/lib/python3.7/site-packages/paddle/nn/layer/common.py\u001b[0m in \u001b[0;36mforward\u001b[0;34m(self, input)\u001b[0m\n\u001b[1;32m    170\u001b[0m     \u001b[0;32mdef\u001b[0m \u001b[0mforward\u001b[0m\u001b[0;34m(\u001b[0m\u001b[0mself\u001b[0m\u001b[0;34m,\u001b[0m \u001b[0minput\u001b[0m\u001b[0;34m)\u001b[0m\u001b[0;34m:\u001b[0m\u001b[0;34m\u001b[0m\u001b[0;34m\u001b[0m\u001b[0m\n\u001b[1;32m    171\u001b[0m         out = F.linear(\n\u001b[0;32m--> 172\u001b[0;31m             x=input, weight=self.weight, bias=self.bias, name=self.name)\n\u001b[0m\u001b[1;32m    173\u001b[0m         \u001b[0;32mreturn\u001b[0m \u001b[0mout\u001b[0m\u001b[0;34m\u001b[0m\u001b[0;34m\u001b[0m\u001b[0m\n\u001b[1;32m    174\u001b[0m \u001b[0;34m\u001b[0m\u001b[0m\n",
      "\u001b[0;32m/opt/conda/envs/python35-paddle120-env/lib/python3.7/site-packages/paddle/nn/functional/common.py\u001b[0m in \u001b[0;36mlinear\u001b[0;34m(x, weight, bias, name)\u001b[0m\n\u001b[1;32m   1483\u001b[0m             \u001b[0;32mreturn\u001b[0m \u001b[0mpre_bias\u001b[0m\u001b[0;34m\u001b[0m\u001b[0;34m\u001b[0m\u001b[0m\n\u001b[1;32m   1484\u001b[0m \u001b[0;34m\u001b[0m\u001b[0m\n\u001b[0;32m-> 1485\u001b[0;31m         \u001b[0;32mreturn\u001b[0m \u001b[0m_C_ops\u001b[0m\u001b[0;34m.\u001b[0m\u001b[0melementwise_add\u001b[0m\u001b[0;34m(\u001b[0m\u001b[0mpre_bias\u001b[0m\u001b[0;34m,\u001b[0m \u001b[0mbias\u001b[0m\u001b[0;34m)\u001b[0m\u001b[0;34m\u001b[0m\u001b[0;34m\u001b[0m\u001b[0m\n\u001b[0m\u001b[1;32m   1486\u001b[0m     \u001b[0;32melse\u001b[0m\u001b[0;34m:\u001b[0m\u001b[0;34m\u001b[0m\u001b[0;34m\u001b[0m\u001b[0m\n\u001b[1;32m   1487\u001b[0m         \u001b[0mhelper\u001b[0m \u001b[0;34m=\u001b[0m \u001b[0mLayerHelper\u001b[0m\u001b[0;34m(\u001b[0m\u001b[0;34m'linear'\u001b[0m\u001b[0;34m,\u001b[0m \u001b[0;34m**\u001b[0m\u001b[0mlocals\u001b[0m\u001b[0;34m(\u001b[0m\u001b[0;34m)\u001b[0m\u001b[0;34m)\u001b[0m\u001b[0;34m\u001b[0m\u001b[0;34m\u001b[0m\u001b[0m\n",
      "\u001b[0;31mKeyboardInterrupt\u001b[0m: "
     ]
    }
   ],
   "source": [
    "EPOCH_NUM = 5000   # 设置外层循环次数\n",
    "TRAIN_BATCH_SIZE = 1000  # 设置batch大小\n",
    "BATCH_SIZE = 1000  # 设置batch大小\n",
    "training_data = train_df.iloc[:-10000].values.astype(np.float32)\n",
    "val_data = train_df.iloc[-10000:].values.astype(np.float32)\n",
    "\n",
    "# 定义外层循环\n",
    "for epoch_id in range(EPOCH_NUM):\n",
    "    # 在每轮迭代开始之前，将训练数据的顺序随机的打乱\n",
    "    np.random.shuffle(training_data)\n",
    "    \n",
    "    # 将训练数据进行拆分，每个batch包含10条数据\n",
    "    mini_batches = [training_data[k:k+TRAIN_BATCH_SIZE] for k in range(0, len(training_data), TRAIN_BATCH_SIZE)]\n",
    "    \n",
    "    train_loss = []\n",
    "    for iter_id, mini_batch in enumerate(mini_batches):\n",
    "        # 清空梯度变量，以备下一轮计算\n",
    "        opt.clear_grad()\n",
    "\n",
    "        x = np.array(mini_batch[:, :-1])\n",
    "        y = np.array(mini_batch[:, -1:])\n",
    "        \n",
    "        # 将numpy数据转为飞桨动态图tensor的格式\n",
    "        features = paddle.to_tensor(x)\n",
    "        y = paddle.to_tensor(y)\n",
    "        \n",
    "        # 前向计算\n",
    "        predicts = model(features)\n",
    "        \n",
    "        # 计算损失\n",
    "        loss = paddle.nn.functional.l1_loss(predicts, label=y)\n",
    "        avg_loss = paddle.mean(loss)\n",
    "        train_loss.append(avg_loss.numpy())\n",
    "        \n",
    "        # 反向传播，计算每层参数的梯度值\n",
    "        avg_loss.backward()\n",
    "\n",
    "        # 更新参数，根据设置好的学习率迭代一步\n",
    "        opt.step()\n",
    "    \n",
    "    mini_batches = [val_data[k:k+BATCH_SIZE] for k in range(0, len(val_data), BATCH_SIZE)]\n",
    "    val_loss = []\n",
    "    for iter_id, mini_batch in enumerate(mini_batches):\n",
    "        x = np.array(mini_batch[:, :-1])\n",
    "        y = np.array(mini_batch[:, -1:])\n",
    "        \n",
    "        features = paddle.to_tensor(x)\n",
    "        y = paddle.to_tensor(y)\n",
    "        \n",
    "        predicts = model(features)\n",
    "        loss = paddle.nn.functional.l1_loss(predicts, label=y)\n",
    "        avg_loss = paddle.mean(loss)\n",
    "        val_loss.append(avg_loss.numpy())\n",
    "\n",
    "    print(f'Epoch {epoch_id}, train MAE {np.mean(train_loss)}, val MAE {np.mean(val_loss)}')"
   ]
  },
  {
   "cell_type": "markdown",
   "metadata": {
    "collapsed": false
   },
   "source": [
    "### 模型预测"
   ]
  },
  {
   "cell_type": "code",
   "execution_count": 45,
   "metadata": {
    "collapsed": false
   },
   "outputs": [],
   "source": [
    "model.eval()\n",
    "test_data = paddle.to_tensor(test_df.values.astype(np.float32))\n",
    "test_predict = model(test_data)\n",
    "test_predict = test_predict.numpy().flatten()\n",
    "# test_predict = test_predict.round().astype(int)"
   ]
  },
  {
   "cell_type": "code",
   "execution_count": 46,
   "metadata": {
    "collapsed": false
   },
   "outputs": [],
   "source": [
    "train_df2 = pd.read_csv('data/data137263/pubg_train.csv.zip')\r\n",
    "test_df2 = pd.read_csv('data/data137263/pubg_test.csv.zip')\r\n",
    "\r\n",
    "train_df2 = train_df2.drop(['match_id', 'team_id'], axis=1)\r\n",
    "test_df2 = test_df2.drop(['match_id', 'team_id'], axis=1)\r\n",
    "\r\n",
    "train_df2 = train_df2.fillna(0)\r\n",
    "test_df2 = test_df2.fillna(0)\r\n",
    "\r\n",
    "test_df['team_placement'] = test_df2['game_size'] * test_predict"
   ]
  },
  {
   "cell_type": "code",
   "execution_count": 47,
   "metadata": {
    "collapsed": false
   },
   "outputs": [],
   "source": [
    "test_predict = test_df['team_placement'].round().astype(int)"
   ]
  },
  {
   "cell_type": "code",
   "execution_count": 48,
   "metadata": {
    "collapsed": false
   },
   "outputs": [
    {
     "data": {
      "text/plain": [
       "0         23\n",
       "1         19\n",
       "2         39\n",
       "3         35\n",
       "4         46\n",
       "          ..\n",
       "499995     5\n",
       "499996    23\n",
       "499997    21\n",
       "499998    23\n",
       "499999    23\n",
       "Name: team_placement, Length: 500000, dtype: int64"
      ]
     },
     "execution_count": 48,
     "metadata": {},
     "output_type": "execute_result"
    }
   ],
   "source": [
    "test_predict"
   ]
  },
  {
   "cell_type": "code",
   "execution_count": 49,
   "metadata": {
    "collapsed": false
   },
   "outputs": [
    {
     "name": "stdout",
     "output_type": "stream",
     "text": [
      "  adding: submission.csv (deflated 68%)\n"
     ]
    }
   ],
   "source": [
    "pd.DataFrame({\n",
    "    'team_placement': test_predict\n",
    "}).to_csv('submission.csv', index=None)\n",
    "\n",
    "!zip submission.zip submission.csv"
   ]
  },
  {
   "cell_type": "code",
   "execution_count": 50,
   "metadata": {
    "collapsed": false
   },
   "outputs": [
    {
     "name": "stderr",
     "output_type": "stream",
     "text": [
      "/opt/conda/envs/python35-paddle120-env/lib/python3.7/site-packages/paddle/framework/io.py:729: UserWarning: The input state dict is empty, no need to save.\n",
      "  warnings.warn(\"The input state dict is empty, no need to save.\")\n"
     ]
    }
   ],
   "source": [
    "model_name='100-2net'\r\n",
    "# 保存模型参数\r\n",
    "paddle.save(model.state_dict(), 'work/model/{}.pdparams'.format(model_name))\r\n",
    "# 保存优化器信息和相关参数，方便继续训练\r\n",
    "paddle.save(opt.state_dict(), 'work/model/{}.pdopt'.format(model_name))"
   ]
  },
  {
   "cell_type": "markdown",
   "metadata": {
    "collapsed": false
   },
   "source": [
    "## 6 总结与展望\n",
    "\n",
    "项目使用全连接网络进行训练和预测。\n",
    "\n",
    "后续改进方法有：\n",
    "- 按照队伍进行聚合统计数据，构造新特征。\n",
    "- 将标签归一化到0-1之间，进行训练。"
   ]
  }
 ],
 "metadata": {
  "kernelspec": {
   "display_name": "Python 3",
   "language": "python",
   "name": "py35-paddle1.2.0"
  },
  "language_info": {
   "codemirror_mode": {
    "name": "ipython",
    "version": 3
   },
   "file_extension": ".py",
   "mimetype": "text/x-python",
   "name": "python",
   "nbconvert_exporter": "python",
   "pygments_lexer": "ipython3",
   "version": "3.7.4"
  }
 },
 "nbformat": 4,
 "nbformat_minor": 1
}
